{
  "nbformat": 4,
  "nbformat_minor": 0,
  "metadata": {
    "colab": {
      "provenance": [],
      "authorship_tag": "ABX9TyNMXpR1d3mk6z/9zic6g2xb",
      "include_colab_link": true
    },
    "kernelspec": {
      "name": "python3",
      "display_name": "Python 3"
    },
    "language_info": {
      "name": "python"
    }
  },
  "cells": [
    {
      "cell_type": "markdown",
      "metadata": {
        "id": "view-in-github",
        "colab_type": "text"
      },
      "source": [
        "<a href=\"https://colab.research.google.com/github/pavani-tvs88/DataScience-Demo-2025/blob/main/data_science_notebook.ipynb\" target=\"_parent\"><img src=\"https://colab.research.google.com/assets/colab-badge.svg\" alt=\"Open In Colab\"/></a>"
      ]
    },
    {
      "cell_type": "markdown",
      "metadata": {
        "id": "aec3f42c"
      },
      "source": [
        "## Data Science Demo"
      ]
    },
    {
      "cell_type": "markdown",
      "source": [
        "## Ingest"
      ],
      "metadata": {
        "id": "IwGgw3GKJXcu"
      }
    },
    {
      "cell_type": "code",
      "source": [],
      "metadata": {
        "id": "r4x805_UJ8xM"
      },
      "execution_count": null,
      "outputs": []
    },
    {
      "cell_type": "markdown",
      "source": [
        "## EDA"
      ],
      "metadata": {
        "id": "sgArV-wZJzvE"
      }
    },
    {
      "cell_type": "code",
      "source": [],
      "metadata": {
        "id": "V1aneIt-J9ez"
      },
      "execution_count": null,
      "outputs": []
    },
    {
      "cell_type": "markdown",
      "source": [
        "## Modeling"
      ],
      "metadata": {
        "id": "is9wKsQZJ3An"
      }
    },
    {
      "cell_type": "markdown",
      "source": [
        "### Classification Algorithm A"
      ],
      "metadata": {
        "id": "WmUsVw90J-c4"
      }
    },
    {
      "cell_type": "code",
      "source": [],
      "metadata": {
        "id": "kCp9NZB6KL7g"
      },
      "execution_count": null,
      "outputs": []
    },
    {
      "cell_type": "markdown",
      "source": [
        "### Classification Alogorithm B"
      ],
      "metadata": {
        "id": "_gDa-6JxKGar"
      }
    },
    {
      "cell_type": "code",
      "source": [],
      "metadata": {
        "id": "OXgU2sDqKK4r"
      },
      "execution_count": null,
      "outputs": []
    },
    {
      "cell_type": "markdown",
      "source": [
        "## Conclusion"
      ],
      "metadata": {
        "id": "acTylSvBJ5pA"
      }
    },
    {
      "cell_type": "markdown",
      "source": [],
      "metadata": {
        "id": "JuForumkKS2d"
      }
    }
  ]
}